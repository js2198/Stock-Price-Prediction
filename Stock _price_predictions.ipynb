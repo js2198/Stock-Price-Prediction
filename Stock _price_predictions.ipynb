{
  "nbformat": 4,
  "nbformat_minor": 0,
  "metadata": {
    "colab": {
      "name": "Stock_price_pred.ipynb",
      "provenance": [],
      "collapsed_sections": []
    },
    "kernelspec": {
      "name": "python3",
      "display_name": "Python 3"
    }
  },
  "cells": [
    {
      "cell_type": "code",
      "metadata": {
        "id": "EWxIk7cPTEgN",
        "colab_type": "code",
        "colab": {}
      },
      "source": [
        "# Description: This program uses a RNN called LSTM \n",
        "#              to predict the closing stock price of a corporation.  "
      ],
      "execution_count": 0,
      "outputs": []
    },
    {
      "cell_type": "code",
      "metadata": {
        "id": "KbGSMGtoTt76",
        "colab_type": "code",
        "colab": {}
      },
      "source": [
        "#import the libraries\n",
        "import math \n",
        "import pandas_datareader as web\n",
        "import numpy as np \n",
        "import pandas as pd  \n",
        "from sklearn.preprocessing import MinMaxScaler\n",
        "from tensorflow.python.keras.models import Sequential\n",
        "from tensorflow.python.keras.layers import Dense, LSTM\n",
        "import matplotlib.pyplot as plt\n",
        "plt.style.use('fivethirtyeight')"
      ],
      "execution_count": 0,
      "outputs": []
    },
    {
      "cell_type": "code",
      "metadata": {
        "id": "YqxlCX7OVOki",
        "colab_type": "code",
        "outputId": "2c122a58-0411-457b-fa29-12e135345d8f",
        "colab": {
          "base_uri": "https://localhost:8080/",
          "height": 450
        }
      },
      "source": [
        "# Get the stock quote\n",
        "df = web.DataReader('AAPL', data_source='yahoo', start='2012-01-01', end='2020-03-30')\n",
        "# Show the data\n",
        "df"
      ],
      "execution_count": 3,
      "outputs": [
        {
          "output_type": "execute_result",
          "data": {
            "text/html": [
              "<div>\n",
              "<style scoped>\n",
              "    .dataframe tbody tr th:only-of-type {\n",
              "        vertical-align: middle;\n",
              "    }\n",
              "\n",
              "    .dataframe tbody tr th {\n",
              "        vertical-align: top;\n",
              "    }\n",
              "\n",
              "    .dataframe thead th {\n",
              "        text-align: right;\n",
              "    }\n",
              "</style>\n",
              "<table border=\"1\" class=\"dataframe\">\n",
              "  <thead>\n",
              "    <tr style=\"text-align: right;\">\n",
              "      <th></th>\n",
              "      <th>High</th>\n",
              "      <th>Low</th>\n",
              "      <th>Open</th>\n",
              "      <th>Close</th>\n",
              "      <th>Volume</th>\n",
              "      <th>Adj Close</th>\n",
              "    </tr>\n",
              "    <tr>\n",
              "      <th>Date</th>\n",
              "      <th></th>\n",
              "      <th></th>\n",
              "      <th></th>\n",
              "      <th></th>\n",
              "      <th></th>\n",
              "      <th></th>\n",
              "    </tr>\n",
              "  </thead>\n",
              "  <tbody>\n",
              "    <tr>\n",
              "      <th>2012-01-03</th>\n",
              "      <td>58.928570</td>\n",
              "      <td>58.428570</td>\n",
              "      <td>58.485714</td>\n",
              "      <td>58.747143</td>\n",
              "      <td>75555200.0</td>\n",
              "      <td>50.994907</td>\n",
              "    </tr>\n",
              "    <tr>\n",
              "      <th>2012-01-04</th>\n",
              "      <td>59.240002</td>\n",
              "      <td>58.468571</td>\n",
              "      <td>58.571430</td>\n",
              "      <td>59.062859</td>\n",
              "      <td>65005500.0</td>\n",
              "      <td>51.268970</td>\n",
              "    </tr>\n",
              "    <tr>\n",
              "      <th>2012-01-05</th>\n",
              "      <td>59.792858</td>\n",
              "      <td>58.952858</td>\n",
              "      <td>59.278572</td>\n",
              "      <td>59.718571</td>\n",
              "      <td>67817400.0</td>\n",
              "      <td>51.838169</td>\n",
              "    </tr>\n",
              "    <tr>\n",
              "      <th>2012-01-06</th>\n",
              "      <td>60.392857</td>\n",
              "      <td>59.888573</td>\n",
              "      <td>59.967144</td>\n",
              "      <td>60.342857</td>\n",
              "      <td>79573200.0</td>\n",
              "      <td>52.380054</td>\n",
              "    </tr>\n",
              "    <tr>\n",
              "      <th>2012-01-09</th>\n",
              "      <td>61.107143</td>\n",
              "      <td>60.192856</td>\n",
              "      <td>60.785713</td>\n",
              "      <td>60.247143</td>\n",
              "      <td>98506100.0</td>\n",
              "      <td>52.296970</td>\n",
              "    </tr>\n",
              "    <tr>\n",
              "      <th>...</th>\n",
              "      <td>...</td>\n",
              "      <td>...</td>\n",
              "      <td>...</td>\n",
              "      <td>...</td>\n",
              "      <td>...</td>\n",
              "      <td>...</td>\n",
              "    </tr>\n",
              "    <tr>\n",
              "      <th>2020-03-24</th>\n",
              "      <td>247.690002</td>\n",
              "      <td>234.300003</td>\n",
              "      <td>236.360001</td>\n",
              "      <td>246.880005</td>\n",
              "      <td>71882800.0</td>\n",
              "      <td>246.880005</td>\n",
              "    </tr>\n",
              "    <tr>\n",
              "      <th>2020-03-25</th>\n",
              "      <td>258.250000</td>\n",
              "      <td>244.300003</td>\n",
              "      <td>250.750000</td>\n",
              "      <td>245.520004</td>\n",
              "      <td>75900500.0</td>\n",
              "      <td>245.520004</td>\n",
              "    </tr>\n",
              "    <tr>\n",
              "      <th>2020-03-26</th>\n",
              "      <td>258.679993</td>\n",
              "      <td>246.360001</td>\n",
              "      <td>246.520004</td>\n",
              "      <td>258.440002</td>\n",
              "      <td>63021800.0</td>\n",
              "      <td>258.440002</td>\n",
              "    </tr>\n",
              "    <tr>\n",
              "      <th>2020-03-27</th>\n",
              "      <td>255.869995</td>\n",
              "      <td>247.050003</td>\n",
              "      <td>252.750000</td>\n",
              "      <td>247.740005</td>\n",
              "      <td>51054200.0</td>\n",
              "      <td>247.740005</td>\n",
              "    </tr>\n",
              "    <tr>\n",
              "      <th>2020-03-30</th>\n",
              "      <td>255.520004</td>\n",
              "      <td>249.399994</td>\n",
              "      <td>250.740005</td>\n",
              "      <td>254.809998</td>\n",
              "      <td>41938500.0</td>\n",
              "      <td>254.809998</td>\n",
              "    </tr>\n",
              "  </tbody>\n",
              "</table>\n",
              "<p>2073 rows × 6 columns</p>\n",
              "</div>"
            ],
            "text/plain": [
              "                  High         Low  ...      Volume   Adj Close\n",
              "Date                                ...                        \n",
              "2012-01-03   58.928570   58.428570  ...  75555200.0   50.994907\n",
              "2012-01-04   59.240002   58.468571  ...  65005500.0   51.268970\n",
              "2012-01-05   59.792858   58.952858  ...  67817400.0   51.838169\n",
              "2012-01-06   60.392857   59.888573  ...  79573200.0   52.380054\n",
              "2012-01-09   61.107143   60.192856  ...  98506100.0   52.296970\n",
              "...                ...         ...  ...         ...         ...\n",
              "2020-03-24  247.690002  234.300003  ...  71882800.0  246.880005\n",
              "2020-03-25  258.250000  244.300003  ...  75900500.0  245.520004\n",
              "2020-03-26  258.679993  246.360001  ...  63021800.0  258.440002\n",
              "2020-03-27  255.869995  247.050003  ...  51054200.0  247.740005\n",
              "2020-03-30  255.520004  249.399994  ...  41938500.0  254.809998\n",
              "\n",
              "[2073 rows x 6 columns]"
            ]
          },
          "metadata": {
            "tags": []
          },
          "execution_count": 3
        }
      ]
    },
    {
      "cell_type": "code",
      "metadata": {
        "id": "4h8ZTOdYV8mR",
        "colab_type": "code",
        "outputId": "a834c335-d464-455e-e28b-c9e7c05be255",
        "colab": {
          "base_uri": "https://localhost:8080/",
          "height": 34
        }
      },
      "source": [
        "# Get the number of rows and col in the dataset\n",
        "df.shape"
      ],
      "execution_count": 4,
      "outputs": [
        {
          "output_type": "execute_result",
          "data": {
            "text/plain": [
              "(2073, 6)"
            ]
          },
          "metadata": {
            "tags": []
          },
          "execution_count": 4
        }
      ]
    },
    {
      "cell_type": "code",
      "metadata": {
        "id": "55QJxevOW5Cb",
        "colab_type": "code",
        "outputId": "482b3794-84e3-4684-99a1-e5f1c13435d8",
        "colab": {
          "base_uri": "https://localhost:8080/",
          "height": 458
        }
      },
      "source": [
        "#Visualize the closing price history\n",
        "plt.figure(figsize=(16, 8))\n",
        "plt.title('Close Price History')\n",
        "plt.plot(df['Close'])\n",
        "plt.xlabel('Date', fontsize=18)\n",
        "plt.ylabel('Clos Price USD($)', fontsize=18)\n",
        "plt.show()"
      ],
      "execution_count": 5,
      "outputs": [
        {
          "output_type": "stream",
          "text": [
            "/usr/local/lib/python3.6/dist-packages/pandas/plotting/_matplotlib/converter.py:103: FutureWarning: Using an implicitly registered datetime converter for a matplotlib plotting method. The converter was registered by pandas on import. Future versions of pandas will require you to explicitly register matplotlib converters.\n",
            "\n",
            "To register the converters:\n",
            "\t>>> from pandas.plotting import register_matplotlib_converters\n",
            "\t>>> register_matplotlib_converters()\n",
            "  warnings.warn(msg, FutureWarning)\n"
          ],
          "name": "stderr"
        },
        {
          "output_type": "display_data",
          "data": {
            "image/png": "[encoded data removed]",
            "text/plain": [
              "<Figure size 1152x576 with 1 Axes>"
            ]
          },
          "metadata": {
            "tags": []
          }
        }
      ]
    },
    {
      "cell_type": "code",
      "metadata": {
        "id": "d2KoCNL6Xud_",
        "colab_type": "code",
        "outputId": "79d8c319-fe71-470d-8651-ce1ff08ecdd2",
        "colab": {
          "base_uri": "https://localhost:8080/",
          "height": 34
        }
      },
      "source": [
        "# Create a new df with only 'Close' col\n",
        "data = df.filter(['Close'])\n",
        "# Convert the df to numpy arr\n",
        "dataset = data.values\n",
        "# Get the no of rows of training data\n",
        "training_data_len = math.ceil(len(dataset)*0.8)\n",
        "\n",
        "training_data_len"
      ],
      "execution_count": 6,
      "outputs": [
        {
          "output_type": "execute_result",
          "data": {
            "text/plain": [
              "1659"
            ]
          },
          "metadata": {
            "tags": []
          },
          "execution_count": 6
        }
      ]
    },
    {
      "cell_type": "code",
      "metadata": {
        "id": "qgg47uGcY5_O",
        "colab_type": "code",
        "outputId": "8ce35d67-0609-44dc-f585-15189ea1f498",
        "colab": {
          "base_uri": "https://localhost:8080/",
          "height": 136
        }
      },
      "source": [
        "# Scale the data\n",
        "scaler = MinMaxScaler(feature_range=(0, 1))\n",
        "scaled_data = scaler.fit_transform(dataset)\n",
        "\n",
        "scaled_data"
      ],
      "execution_count": 7,
      "outputs": [
        {
          "output_type": "execute_result",
          "data": {
            "text/plain": [
              "array([[0.01089548],\n",
              "       [0.01205872],\n",
              "       [0.01447467],\n",
              "       ...,\n",
              "       [0.74665632],\n",
              "       [0.70723259],\n",
              "       [0.73328171]])"
            ]
          },
          "metadata": {
            "tags": []
          },
          "execution_count": 7
        }
      ]
    },
    {
      "cell_type": "code",
      "metadata": {
        "id": "pplLsDGMZmEu",
        "colab_type": "code",
        "outputId": "63c65903-5307-4f8f-8104-5aa8832b9180",
        "colab": {
          "base_uri": "https://localhost:8080/",
          "height": 700
        }
      },
      "source": [
        "# Create the scaled training dataset\n",
        "train_data = scaled_data[0:training_data_len, :]\n",
        "# Split data into x_train and y_train\n",
        "x_train = []\n",
        "y_train = []\n",
        "\n",
        "for i in range(60, len(train_data)):\n",
        "  x_train.append(train_data[i-60:i, 0])\n",
        "  y_train.append(train_data[i, 0])\n",
        "  if i<= 61:\n",
        "    print(x_train)\n",
        "    print(y_train)\n",
        "    print()"
      ],
      "execution_count": 8,
      "outputs": [
        {
          "output_type": "stream",
          "text": [
            "[array([0.01089548, 0.01205872, 0.01447467, 0.01677483, 0.01642217,\n",
            "       0.01721696, 0.01685378, 0.01624321, 0.01541158, 0.01798544,\n",
            "       0.02030665, 0.01959081, 0.01566949, 0.01941185, 0.01572739,\n",
            "       0.02954412, 0.02847562, 0.02987047, 0.03288645, 0.03471289,\n",
            "       0.03456025, 0.03399706, 0.03639722, 0.03865526, 0.04121335,\n",
            "       0.04534521, 0.05402475, 0.05415633, 0.05898825, 0.06259901,\n",
            "       0.05639331, 0.05878296, 0.0587356 , 0.06543606, 0.06448335,\n",
            "       0.06624662, 0.06941526, 0.07117856, 0.07625785, 0.07995811,\n",
            "       0.08102658, 0.0814003 , 0.07507357, 0.07354712, 0.07377347,\n",
            "       0.07972122, 0.08139505, 0.08499001, 0.09346428, 0.10477032,\n",
            "       0.10265438, 0.10265964, 0.11083389, 0.11339195, 0.11157078,\n",
            "       0.10990752, 0.10817582, 0.11392883, 0.11787649, 0.11952923])]\n",
            "[0.11544472908538655]\n",
            "\n",
            "[array([0.01089548, 0.01205872, 0.01447467, 0.01677483, 0.01642217,\n",
            "       0.01721696, 0.01685378, 0.01624321, 0.01541158, 0.01798544,\n",
            "       0.02030665, 0.01959081, 0.01566949, 0.01941185, 0.01572739,\n",
            "       0.02954412, 0.02847562, 0.02987047, 0.03288645, 0.03471289,\n",
            "       0.03456025, 0.03399706, 0.03639722, 0.03865526, 0.04121335,\n",
            "       0.04534521, 0.05402475, 0.05415633, 0.05898825, 0.06259901,\n",
            "       0.05639331, 0.05878296, 0.0587356 , 0.06543606, 0.06448335,\n",
            "       0.06624662, 0.06941526, 0.07117856, 0.07625785, 0.07995811,\n",
            "       0.08102658, 0.0814003 , 0.07507357, 0.07354712, 0.07377347,\n",
            "       0.07972122, 0.08139505, 0.08499001, 0.09346428, 0.10477032,\n",
            "       0.10265438, 0.10265964, 0.11083389, 0.11339195, 0.11157078,\n",
            "       0.10990752, 0.10817582, 0.11392883, 0.11787649, 0.11952923]), array([0.01205872, 0.01447467, 0.01677483, 0.01642217, 0.01721696,\n",
            "       0.01685378, 0.01624321, 0.01541158, 0.01798544, 0.02030665,\n",
            "       0.01959081, 0.01566949, 0.01941185, 0.01572739, 0.02954412,\n",
            "       0.02847562, 0.02987047, 0.03288645, 0.03471289, 0.03456025,\n",
            "       0.03399706, 0.03639722, 0.03865526, 0.04121335, 0.04534521,\n",
            "       0.05402475, 0.05415633, 0.05898825, 0.06259901, 0.05639331,\n",
            "       0.05878296, 0.0587356 , 0.06543606, 0.06448335, 0.06624662,\n",
            "       0.06941526, 0.07117856, 0.07625785, 0.07995811, 0.08102658,\n",
            "       0.0814003 , 0.07507357, 0.07354712, 0.07377347, 0.07972122,\n",
            "       0.08139505, 0.08499001, 0.09346428, 0.10477032, 0.10265438,\n",
            "       0.10265964, 0.11083389, 0.11339195, 0.11157078, 0.10990752,\n",
            "       0.10817582, 0.11392883, 0.11787649, 0.11952923, 0.11544473])]\n",
            "[0.11544472908538655, 0.11001805153856642]\n",
            "\n"
          ],
          "name": "stdout"
        }
      ]
    },
    {
      "cell_type": "code",
      "metadata": {
        "id": "5sQ21z8RHLS8",
        "colab_type": "code",
        "colab": {}
      },
      "source": [
        "# Convert the x_train and y_train to numpy arrays\n",
        "x_train, y_train = np.array(x_train), np.array(y_train)"
      ],
      "execution_count": 0,
      "outputs": []
    },
    {
      "cell_type": "code",
      "metadata": {
        "id": "LVfB6pqjH_-K",
        "colab_type": "code",
        "colab": {
          "base_uri": "https://localhost:8080/",
          "height": 34
        },
        "outputId": "735198d4-dbb8-4a43-8b58-3413ccfef03b"
      },
      "source": [
        "# Reshape the data\n",
        "x_train = np.reshape(x_train, (x_train.shape[0], x_train.shape[1], 1))\n",
        "x_train.shape"
      ],
      "execution_count": 11,
      "outputs": [
        {
          "output_type": "execute_result",
          "data": {
            "text/plain": [
              "(1599, 60, 1)"
            ]
          },
          "metadata": {
            "tags": []
          },
          "execution_count": 11
        }
      ]
    },
    {
      "cell_type": "code",
      "metadata": {
        "id": "Ar1J9ZsQIWem",
        "colab_type": "code",
        "colab": {}
      },
      "source": [
        "# Build the LSTM model\n",
        "model = Sequential()\n",
        "model.add(LSTM(50, return_sequences=True, input_shape=(x_train.shape[1], 1)))\n",
        "model.add(LSTM(50, return_sequences=False))\n",
        "model.add(Dense(25))\n",
        "model.add(Dense(1))\n",
        "\n",
        "# Compile the model\n",
        "model.compile(optimizer='adam', loss='mean_squared_error')"
      ],
      "execution_count": 0,
      "outputs": []
    },
    {
      "cell_type": "code",
      "metadata": {
        "id": "L4JO7_1OKIut",
        "colab_type": "code",
        "colab": {
          "base_uri": "https://localhost:8080/",
          "height": 374
        },
        "outputId": "926c2993-3a4c-48c1-e0aa-5fd62dd018ca"
      },
      "source": [
        "# Train the model\n",
        "model.fit(x_train, y_train, batch_size=1, epochs=10)"
      ],
      "execution_count": 21,
      "outputs": [
        {
          "output_type": "stream",
          "text": [
            "Epoch 1/10\n",
            "1599/1599 [==============================] - 99s 62ms/step - loss: 6.6901e-04\n",
            "Epoch 2/10\n",
            "1599/1599 [==============================] - 99s 62ms/step - loss: 2.2656e-04\n",
            "Epoch 3/10\n",
            "1599/1599 [==============================] - 99s 62ms/step - loss: 1.5253e-04\n",
            "Epoch 4/10\n",
            "1599/1599 [==============================] - 98s 62ms/step - loss: 1.5171e-04\n",
            "Epoch 5/10\n",
            "1599/1599 [==============================] - 99s 62ms/step - loss: 1.4805e-04\n",
            "Epoch 6/10\n",
            "1599/1599 [==============================] - 102s 64ms/step - loss: 1.1664e-04\n",
            "Epoch 7/10\n",
            "1599/1599 [==============================] - 100s 63ms/step - loss: 1.1285e-04\n",
            "Epoch 8/10\n",
            "1599/1599 [==============================] - 100s 62ms/step - loss: 1.0487e-04\n",
            "Epoch 9/10\n",
            "1599/1599 [==============================] - 100s 63ms/step - loss: 9.7119e-05\n",
            "Epoch 10/10\n",
            "1599/1599 [==============================] - 101s 63ms/step - loss: 9.0155e-05\n"
          ],
          "name": "stdout"
        },
        {
          "output_type": "execute_result",
          "data": {
            "text/plain": [
              "<tensorflow.python.keras.callbacks.History at 0x7fea273728d0>"
            ]
          },
          "metadata": {
            "tags": []
          },
          "execution_count": 21
        }
      ]
    },
    {
      "cell_type": "code",
      "metadata": {
        "id": "VV1erdraOw4d",
        "colab_type": "code",
        "colab": {}
      },
      "source": [
        "# Create the testing dataset with a new  array containing scaled values from index 1599 to 2073\n",
        "test_data = scaled_data[training_data_len-60:, :]\n",
        "\n",
        "# Create the datasets x_test and y_test\n",
        "x_test = []\n",
        "y_test = dataset[training_data_len:, :]\n",
        "for i in range(60, len(test_data)):\n",
        "  x_test.append(test_data[i-60:i, 0])"
      ],
      "execution_count": 0,
      "outputs": []
    },
    {
      "cell_type": "code",
      "metadata": {
        "id": "MYqjxCkxPk65",
        "colab_type": "code",
        "colab": {}
      },
      "source": [
        "# Convert the data to numpy arr\n",
        "x_test = np.array(x_test)\n",
        "# Reshape the data\n",
        "x_test = np.reshape(x_test, (x_test.shape[0], x_test.shape[1], 1))"
      ],
      "execution_count": 0,
      "outputs": []
    },
    {
      "cell_type": "code",
      "metadata": {
        "id": "bzStouixP58r",
        "colab_type": "code",
        "colab": {
          "base_uri": "https://localhost:8080/",
          "height": 34
        },
        "outputId": "31dcc4df-f93c-4c75-cc41-779c0ea60ff8"
      },
      "source": [
        "# Get the models predicted price values\n",
        "predictions = model.predict(x_test)\n",
        "predictions = scaler.inverse_transform(predictions)"
      ],
      "execution_count": 34,
      "outputs": [
        {
          "output_type": "execute_result",
          "data": {
            "text/plain": [
              "(414, 1)"
            ]
          },
          "metadata": {
            "tags": []
          },
          "execution_count": 34
        }
      ]
    },
    {
      "cell_type": "code",
      "metadata": {
        "id": "pAxmcgBfQzPE",
        "colab_type": "code",
        "colab": {
          "base_uri": "https://localhost:8080/",
          "height": 34
        },
        "outputId": "31665732-6b8b-4636-8087-c2b1174894e5"
      },
      "source": [
        "# Calculate RMSE\n",
        "rmse = np.sqrt( np.mean( predictions-y_test )**2 )\n",
        "rmse"
      ],
      "execution_count": 35,
      "outputs": [
        {
          "output_type": "execute_result",
          "data": {
            "text/plain": [
              "1.3620498583512606"
            ]
          },
          "metadata": {
            "tags": []
          },
          "execution_count": 35
        }
      ]
    },
    {
      "cell_type": "code",
      "metadata": {
        "id": "lfi9vrqxdqDe",
        "colab_type": "code",
        "colab": {
          "base_uri": "https://localhost:8080/",
          "height": 458
        },
        "outputId": "84121f7f-4104-4ec3-b3be-035ae40c4842"
      },
      "source": [
        "train = data[:training_data_len]\n",
        "valid = data[training_data_len:]\n",
        "valid['Predictions'] = predictions\n",
        "# Visualize the data\n",
        "plt.figure(figsize=(16,8))\n",
        "plt.title('Model')\n",
        "plt.xlabel('Date', fontsize=18)\n",
        "plt.ylabel('Close Price USD($)', fontsize=18)\n",
        "plt.plot(train['Close'])\n",
        "plt.plot(valid[['Close', 'Predictions']])\n",
        "plt.legend(['Train', 'Val', 'Predictions'], loc='lower right')\n",
        "plt.show()"
      ],
      "execution_count": 36,
      "outputs": [
        {
          "output_type": "stream",
          "text": [
            "/usr/local/lib/python3.6/dist-packages/ipykernel_launcher.py:3: SettingWithCopyWarning: \n",
            "A value is trying to be set on a copy of a slice from a DataFrame.\n",
            "Try using .loc[row_indexer,col_indexer] = value instead\n",
            "\n",
            "See the caveats in the documentation: http://pandas.pydata.org/pandas-docs/stable/user_guide/indexing.html#returning-a-view-versus-a-copy\n",
            "  This is separate from the ipykernel package so we can avoid doing imports until\n"
          ],
          "name": "stderr"
        },
        {
          "output_type": "display_data",
          "data": {
            "image/png": "[encoded data removed]",
            "text/plain": [
              "<Figure size 1152x576 with 1 Axes>"
            ]
          },
          "metadata": {
            "tags": []
          }
        }
      ]
    },
    {
      "cell_type": "code",
      "metadata": {
        "id": "yPpjnaN7gLnN",
        "colab_type": "code",
        "colab": {
          "base_uri": "https://localhost:8080/",
          "height": 450
        },
        "outputId": "228403af-3111-4bb1-90a4-be42d7bdf34e"
      },
      "source": [
        "# Show the valid and predicted prices\n",
        "valid"
      ],
      "execution_count": 37,
      "outputs": [
        {
          "output_type": "execute_result",
          "data": {
            "text/html": [
              "<div>\n",
              "<style scoped>\n",
              "    .dataframe tbody tr th:only-of-type {\n",
              "        vertical-align: middle;\n",
              "    }\n",
              "\n",
              "    .dataframe tbody tr th {\n",
              "        vertical-align: top;\n",
              "    }\n",
              "\n",
              "    .dataframe thead th {\n",
              "        text-align: right;\n",
              "    }\n",
              "</style>\n",
              "<table border=\"1\" class=\"dataframe\">\n",
              "  <thead>\n",
              "    <tr style=\"text-align: right;\">\n",
              "      <th></th>\n",
              "      <th>Close</th>\n",
              "      <th>Predictions</th>\n",
              "    </tr>\n",
              "    <tr>\n",
              "      <th>Date</th>\n",
              "      <th></th>\n",
              "      <th></th>\n",
              "    </tr>\n",
              "  </thead>\n",
              "  <tbody>\n",
              "    <tr>\n",
              "      <th>2018-08-07</th>\n",
              "      <td>207.110001</td>\n",
              "      <td>208.555756</td>\n",
              "    </tr>\n",
              "    <tr>\n",
              "      <th>2018-08-08</th>\n",
              "      <td>207.250000</td>\n",
              "      <td>206.287354</td>\n",
              "    </tr>\n",
              "    <tr>\n",
              "      <th>2018-08-09</th>\n",
              "      <td>208.880005</td>\n",
              "      <td>206.458389</td>\n",
              "    </tr>\n",
              "    <tr>\n",
              "      <th>2018-08-10</th>\n",
              "      <td>207.529999</td>\n",
              "      <td>207.941238</td>\n",
              "    </tr>\n",
              "    <tr>\n",
              "      <th>2018-08-13</th>\n",
              "      <td>208.869995</td>\n",
              "      <td>206.345566</td>\n",
              "    </tr>\n",
              "    <tr>\n",
              "      <th>...</th>\n",
              "      <td>...</td>\n",
              "      <td>...</td>\n",
              "    </tr>\n",
              "    <tr>\n",
              "      <th>2020-03-24</th>\n",
              "      <td>246.880005</td>\n",
              "      <td>223.499557</td>\n",
              "    </tr>\n",
              "    <tr>\n",
              "      <th>2020-03-25</th>\n",
              "      <td>245.520004</td>\n",
              "      <td>247.525177</td>\n",
              "    </tr>\n",
              "    <tr>\n",
              "      <th>2020-03-26</th>\n",
              "      <td>258.440002</td>\n",
              "      <td>243.798080</td>\n",
              "    </tr>\n",
              "    <tr>\n",
              "      <th>2020-03-27</th>\n",
              "      <td>247.740005</td>\n",
              "      <td>258.868225</td>\n",
              "    </tr>\n",
              "    <tr>\n",
              "      <th>2020-03-30</th>\n",
              "      <td>254.809998</td>\n",
              "      <td>245.673370</td>\n",
              "    </tr>\n",
              "  </tbody>\n",
              "</table>\n",
              "<p>414 rows × 2 columns</p>\n",
              "</div>"
            ],
            "text/plain": [
              "                 Close  Predictions\n",
              "Date                               \n",
              "2018-08-07  207.110001   208.555756\n",
              "2018-08-08  207.250000   206.287354\n",
              "2018-08-09  208.880005   206.458389\n",
              "2018-08-10  207.529999   207.941238\n",
              "2018-08-13  208.869995   206.345566\n",
              "...                ...          ...\n",
              "2020-03-24  246.880005   223.499557\n",
              "2020-03-25  245.520004   247.525177\n",
              "2020-03-26  258.440002   243.798080\n",
              "2020-03-27  247.740005   258.868225\n",
              "2020-03-30  254.809998   245.673370\n",
              "\n",
              "[414 rows x 2 columns]"
            ]
          },
          "metadata": {
            "tags": []
          },
          "execution_count": 37
        }
      ]
    },
    {
      "cell_type": "code",
      "metadata": {
        "id": "uTaxbpu8geV_",
        "colab_type": "code",
        "colab": {
          "base_uri": "https://localhost:8080/",
          "height": 34
        },
        "outputId": "a9084420-8dda-44a1-8d3f-4da02d78ce50"
      },
      "source": [
        "# Get the quote\n",
        "apple_quote = web. DataReader('AAPL', data_source='yahoo', start='2012-01-01', end='2020-03-30' )\n",
        "# Create new df\n",
        "new_df = apple_quote.filter(['Close'])\n",
        "# Get the last 60 days closing price val & convert the df to an array\n",
        "last_60_days = new_df[-60:].values\n",
        "# Scale the data to be values between 0 and 1\n",
        "last_60_days_scaled = scaler.transform(last_60_days)\n",
        "# Create an empty list\n",
        "X_test = []\n",
        "# Append the past 60 days\n",
        "X_test.append(last_60_days_scaled)\n",
        "# Convert the X_test dataset to a numpy array\n",
        "X_test = np.array(X_test)\n",
        "# Reshape the data\n",
        "X_test = np.reshape(X_test, (X_test.shape[0], X_test.shape[1], 1))\n",
        "# Get the predicted scaled price\n",
        "pred_price = model.predict(X_test)\n",
        "# undo the scaling\n",
        "pred_price = scaler.inverse_transform(pred_price)\n",
        "print(pred_price)\n"
      ],
      "execution_count": 41,
      "outputs": [
        {
          "output_type": "stream",
          "text": [
            "[[254.7591]]\n"
          ],
          "name": "stdout"
        }
      ]
    },
    {
      "cell_type": "code",
      "metadata": {
        "id": "GHYTnZzsmAJu",
        "colab_type": "code",
        "colab": {
          "base_uri": "https://localhost:8080/",
          "height": 68
        },
        "outputId": "e0d7bb36-1b7c-4d09-b08a-10d76c2d69a7"
      },
      "source": [
        "# Get the quote\n",
        "apple_quote2 = web. DataReader('AAPL', data_source='yahoo', start='2020-03-31', end='2020-03-31' )\n",
        "print(apple_quote2['Close'])"
      ],
      "execution_count": 43,
      "outputs": [
        {
          "output_type": "stream",
          "text": [
            "Date\n",
            "2020-03-30    254.809998\n",
            "Name: Close, dtype: float64\n"
          ],
          "name": "stdout"
        }
      ]
    }
  ]
}